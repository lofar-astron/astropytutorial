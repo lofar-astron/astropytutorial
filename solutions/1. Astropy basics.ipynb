{
 "cells": [
  {
   "cell_type": "markdown",
   "metadata": {},
   "source": [
    "# Astropy tutorial @ ASTRON\n",
    "# Astropy basics\n",
    "\n",
    "Authors: [Tammo Jan Dijkema](t.j.dijkema@gmail.com), [Maaijke Mevius](mevius@astron.nl), [Cees Bassa](bassa@astron.nl)\n",
    "\n",
    "This tutorial first given at ASTRON on 13 March 2019"
   ]
  },
  {
   "cell_type": "markdown",
   "metadata": {},
   "source": [
    "# Notebook basics"
   ]
  },
  {
   "cell_type": "markdown",
   "metadata": {},
   "source": [
    "Navigation in Jupyter notebooks can be tricky. If you are in *command mode* (not editing a cell), lots of keyboard shortcuts are active, like \"`j`\" and \"`k`\" for scrolling, \"`a`\" for inserting a cell, or \"`dd`\" for deleting one (these should be familiar if you know `vi`). If you want to type in a cell, make sure to be in *edit mode* by checking you see a blinking cursor. \n",
    "\n",
    "  * To go to edit mode, press Enter or double click a cell.\n",
    "  * To go back to command mode, press Esc or single click another cell."
   ]
  },
  {
   "cell_type": "markdown",
   "metadata": {},
   "source": [
    "<a id=\"toc\"></a>"
   ]
  },
  {
   "cell_type": "markdown",
   "metadata": {},
   "source": [
    "# Table of contents"
   ]
  },
  {
   "cell_type": "markdown",
   "metadata": {},
   "source": [
    "* [Numpy](#numpy)\n",
    "* [Plotting](#matplotlib)\n",
    "* [Units](#units)\n",
    "* [Sky coordinates](#skycoord)"
   ]
  },
  {
   "cell_type": "markdown",
   "metadata": {},
   "source": [
    "<a id=\"numpy\"></a>"
   ]
  },
  {
   "cell_type": "markdown",
   "metadata": {},
   "source": [
    "# Numpy and speed"
   ]
  },
  {
   "cell_type": "markdown",
   "metadata": {},
   "source": [
    "([back to table of contents](#toc))"
   ]
  },
  {
   "cell_type": "code",
   "execution_count": 30,
   "metadata": {},
   "outputs": [],
   "source": [
    "import numpy as np"
   ]
  },
  {
   "cell_type": "markdown",
   "metadata": {},
   "source": [
    "Let's create a huge-ish numpy array with some numbers:"
   ]
  },
  {
   "cell_type": "code",
   "execution_count": 2,
   "metadata": {},
   "outputs": [],
   "source": [
    "x = np.linspace(0, 1, 1000)"
   ]
  },
  {
   "cell_type": "code",
   "execution_count": 3,
   "metadata": {},
   "outputs": [
    {
     "name": "stdout",
     "output_type": "stream",
     "text": [
      "7.96 µs ± 1.45 µs per loop (mean ± std. dev. of 7 runs, 100000 loops each)\n"
     ]
    }
   ],
   "source": [
    "%%timeit\n",
    "y = np.sin(x)"
   ]
  },
  {
   "cell_type": "markdown",
   "metadata": {},
   "source": [
    "(The `%%timeit`` magic command runs the command a few times; for slower commands you may want to use just `%time` so it will only once.)"
   ]
  },
  {
   "cell_type": "code",
   "execution_count": 4,
   "metadata": {},
   "outputs": [
    {
     "name": "stdout",
     "output_type": "stream",
     "text": [
      "1.71 ms ± 148 µs per loop (mean ± std. dev. of 7 runs, 1000 loops each)\n"
     ]
    }
   ],
   "source": [
    "%%timeit\n",
    "y = np.zeros_like(x)\n",
    "for i in range(len(x)):\n",
    "    y[i] = np.sin(x[i])"
   ]
  },
  {
   "cell_type": "markdown",
   "metadata": {},
   "source": [
    "You should see that the loop version is more than a factor 100 slower. This is because python brings quite an overhead in converting types. In the numpy version, the actual loop is done in C, and thus very efficient."
   ]
  },
  {
   "cell_type": "markdown",
   "metadata": {},
   "source": [
    "### Broadcasting rules\n",
    "\n",
    "To avoid loops in python, it's useful to know the numpy broadcasting rules. Adding `np.array`s of different shapes can sometimes work. Let's first play a bit:"
   ]
  },
  {
   "cell_type": "code",
   "execution_count": 5,
   "metadata": {},
   "outputs": [],
   "source": [
    "vec = np.ones((5))"
   ]
  },
  {
   "cell_type": "code",
   "execution_count": 6,
   "metadata": {},
   "outputs": [
    {
     "data": {
      "text/plain": [
       "(5,)"
      ]
     },
     "execution_count": 6,
     "metadata": {},
     "output_type": "execute_result"
    }
   ],
   "source": [
    "vec.shape"
   ]
  },
  {
   "cell_type": "code",
   "execution_count": 7,
   "metadata": {},
   "outputs": [],
   "source": [
    "mat = np.ones((5,5))"
   ]
  },
  {
   "cell_type": "code",
   "execution_count": 8,
   "metadata": {},
   "outputs": [
    {
     "data": {
      "text/plain": [
       "(5, 5)"
      ]
     },
     "execution_count": 8,
     "metadata": {},
     "output_type": "execute_result"
    }
   ],
   "source": [
    "mat.shape"
   ]
  },
  {
   "cell_type": "markdown",
   "metadata": {},
   "source": [
    "**Question**: will this work? What would the answer be?"
   ]
  },
  {
   "cell_type": "code",
   "execution_count": 9,
   "metadata": {},
   "outputs": [
    {
     "data": {
      "text/plain": [
       "array([[2., 2., 2., 2., 2.],\n",
       "       [2., 2., 2., 2., 2.],\n",
       "       [2., 2., 2., 2., 2.],\n",
       "       [2., 2., 2., 2., 2.],\n",
       "       [2., 2., 2., 2., 2.]])"
      ]
     },
     "execution_count": 9,
     "metadata": {},
     "output_type": "execute_result"
    }
   ],
   "source": [
    "vec + mat"
   ]
  },
  {
   "cell_type": "markdown",
   "metadata": {},
   "source": [
    " * NumPy compares the shapes element-wise, starting with the trailing dimension\n",
    " * Two dimensions are compatible if they are equal or one of them is 1\n",
    " * Raises a ValueError: frames are not aligned if the shapes are incompatible\n",
    " * The size of a successfully broadcasted array is the maximum size along each dimension of the input arrays"
   ]
  },
  {
   "cell_type": "markdown",
   "metadata": {},
   "source": [
    "**Exercise**: Adjust the example above to demonstrate the first two broadcasting rules."
   ]
  },
  {
   "cell_type": "markdown",
   "metadata": {},
   "source": [
    "As an illustration, let's read some LOFAR antenna positions. For reference, I did this with the following command which will only work if you have python-casacore installed:\n",
    "```python\n",
    "import casacore.tables as pt\n",
    "positions = pt.taql(\"SELECT POSITION FROM ~/small.MS::ANTENNA\").getcol(\"POSITION\")\n",
    "```\n",
    "And for more reference, the following would have done the same:\n",
    "```python\n",
    "from lofarantpos.db import LofarAntennaDatabase\n",
    "db = LofarAntennaDatabase()\n",
    "positions = np.array(list(db.phase_centres.values()))\n",
    "```"
   ]
  },
  {
   "cell_type": "code",
   "execution_count": 10,
   "metadata": {},
   "outputs": [],
   "source": [
    "positions = np.array([[3826896.235,460979.455,5064658.203],[3826979.384,460897.597,5064603.189],[3826600.961,460953.402,5064881.136],[3826565.594,460958.11,5064907.258],[3826471.348,461000.138,5064974.201],[3826517.812,461035.258,5064936.15],[3826585.626,460865.844,5064900.561],[3826579.486,460917.48,5064900.502],[3826701.16,460989.25,5064802.685],[3826631.194,461021.815,5064852.259],[3826653.783,461136.44,5064824.943],[3826612.499,461080.298,5064861.006],[3826478.715,461083.72,5064961.117],[3826538.021,461169.731,5064908.827],[3826637.421,461227.345,5064829.134],[3826648.961,461354.241,5064809.003],[3826405.095,461507.46,5064978.083],[3826499.783,461552.498,5064902.938],[3826463.502,460533.094,5065022.614],[3826368.813,460488.057,5065097.759],[3827218.193,461403.898,5064378.79],[3827123.504,461358.861,5064453.935],[3826418.227,461805.837,5064941.199],[3826335.078,461887.696,5064996.213],[3825573.134,461324.607,5065619.039],[3825656.283,461242.749,5065564.025],[3826041.577,460323.374,5065357.614],[3825958.428,460405.233,5065412.628],[3826383.037,460279.343,5065105.85],[3826477.725,460324.381,5065030.705],[3826864.262,460451.924,5064730.006],[3826947.411,460370.066,5064674.992],[3825899.977,461698.906,5065339.205],[3825805.288,461653.869,5065414.35],[3826331.59,462759.074,5064919.62],[3826248.441,462840.933,5064974.634],[3826679.281,461855.243,5064741.38],[3826690.821,461982.139,5064721.249],[3827442.564,461050.814,5064242.391],[3827431.025,460923.919,5064262.521],[3827973.226,459728.624,5063975.3],[3827890.077,459810.483,5064030.313],[3826795.752,460158.894,5064808.929],[3826784.211,460031.993,5064829.062],[3825568.82,460647.62,5065683.028],[3825663.508,460692.658,5065607.883],[3829205.598,469142.533,5062181.002],[3831479.67,463487.529,5060989.903],[3847753.31,466962.809,5048397.244],[3828732.721,454692.421,5063850.334],[3829771.249,452761.702,5063243.181],[3837964.52,449627.261,5057357.585],[3845376.29,413616.564,5054796.341],[3818424.939,452020.269,5071817.644],[3811649.455,453459.894,5076728.952],[3824812.621,426130.33,5069251.754],[3824138.566,459476.972,5066858.578],[3797136.484,463114.447,5086651.286],[3783537.525,450130.064,5097866.146]])"
   ]
  },
  {
   "cell_type": "code",
   "execution_count": 11,
   "metadata": {},
   "outputs": [
    {
     "data": {
      "text/plain": [
       "(59, 3)"
      ]
     },
     "execution_count": 11,
     "metadata": {},
     "output_type": "execute_result"
    }
   ],
   "source": [
    "positions.shape"
   ]
  },
  {
   "cell_type": "markdown",
   "metadata": {},
   "source": [
    "The second broadcasting rule, that uses the fact whether a dimension is 1, can be used to your advantage. Sometimes it's necessary to add a dimension to an existing array to make the broadcasting rules work for you.\n",
    "It's possible to add a dummy axis by using `np.newaxis` in indexing."
   ]
  },
  {
   "cell_type": "code",
   "execution_count": 12,
   "metadata": {},
   "outputs": [
    {
     "data": {
      "text/plain": [
       "(1, 59, 3)"
      ]
     },
     "execution_count": 12,
     "metadata": {},
     "output_type": "execute_result"
    }
   ],
   "source": [
    "positions[np.newaxis, :, :].shape"
   ]
  },
  {
   "cell_type": "markdown",
   "metadata": {},
   "source": [
    "**Exercise**: use the `-` operator on `positions` to get the baselines between all pairs of LOFAR stations. This should be an array of shape (59, 59, 3). If you want, use `np.linalg.norm(..., axis=2)` on that to get the length of all baselines."
   ]
  },
  {
   "cell_type": "code",
   "execution_count": 13,
   "metadata": {},
   "outputs": [
    {
     "name": "stdout",
     "output_type": "stream",
     "text": [
      "170 µs ± 16.4 µs per loop (mean ± std. dev. of 7 runs, 10000 loops each)\n"
     ]
    }
   ],
   "source": [
    "%%timeit\n",
    "np.linalg.norm(positions[np.newaxis, :, :] - positions[:, np.newaxis, :], axis=2);"
   ]
  },
  {
   "cell_type": "markdown",
   "metadata": {},
   "source": [
    "**Exercise**: implement this with a for-loop and check how much slower it is."
   ]
  },
  {
   "cell_type": "code",
   "execution_count": 14,
   "metadata": {},
   "outputs": [],
   "source": [
    "dist = np.zeros((len(positions), len(positions)), dtype=np.float)"
   ]
  },
  {
   "cell_type": "code",
   "execution_count": 15,
   "metadata": {},
   "outputs": [
    {
     "name": "stdout",
     "output_type": "stream",
     "text": [
      "16.8 ms ± 152 µs per loop (mean ± std. dev. of 7 runs, 100 loops each)\n"
     ]
    }
   ],
   "source": [
    "%%timeit\n",
    "for ant1 in range(len(positions)):\n",
    "    for ant2 in range(len(positions)):\n",
    "        dist[ant1, ant2] = np.linalg.norm(positions[ant1] - positions[ant2])"
   ]
  },
  {
   "cell_type": "markdown",
   "metadata": {},
   "source": [
    "<a id=\"matplotlib\"></a>"
   ]
  },
  {
   "cell_type": "markdown",
   "metadata": {},
   "source": [
    "# Proper plotting (no pylab, use fig, ax, subplots)"
   ]
  },
  {
   "cell_type": "markdown",
   "metadata": {},
   "source": [
    "([back to table of contents](#toc))"
   ]
  },
  {
   "cell_type": "code",
   "execution_count": 16,
   "metadata": {},
   "outputs": [],
   "source": [
    "import matplotlib.pyplot as plt\n",
    "%matplotlib inline"
   ]
  },
  {
   "cell_type": "markdown",
   "metadata": {},
   "source": [
    "The `%matplotlib inline` sets up `matplotlib` to put the output as PNG into the notebook. To make it more interactive, use `%matplotlib notebook` to make javascript-based plots that you can interact with in your browser. If you want to know, you can use `%matplotlib --list` to see the options. Or if you forget this, remember `?%matplotlib`."
   ]
  },
  {
   "cell_type": "markdown",
   "metadata": {},
   "source": [
    "From now on, please never use `from pylab import *` anymore, as [recommended](https://matplotlib.org/faq/usage_faq.html#matplotlib-pyplot-and-pylab-how-are-they-related) by its authors."
   ]
  },
  {
   "cell_type": "markdown",
   "metadata": {},
   "source": [
    "Matplotlib has [two ways](https://matplotlib.org/faq/usage_faq.html#coding-styles) to make plots. The MATLAB-like way is to use `plt.plot(np.sin(np.linspace(0,5,100)))`. We prefer the object-oriented way because it's more pythonic and shows a bit clearer what's going on:"
   ]
  },
  {
   "cell_type": "code",
   "execution_count": 17,
   "metadata": {},
   "outputs": [
    {
     "data": {
      "image/png": "[encoded data removed]",
      "text/plain": [
       "<Figure size 504x216 with 1 Axes>"
      ]
     },
     "metadata": {},
     "output_type": "display_data"
    }
   ],
   "source": [
    "fig, ax = plt.subplots(figsize=(7,3));\n",
    "ax.set_xlim([0,0.8])\n",
    "ax.plot(np.linspace(0,1,100), np.sin(5*np.linspace(0,1,100)));\n",
    "ax.set_title(\"Just a sine\");"
   ]
  },
  {
   "cell_type": "code",
   "execution_count": 18,
   "metadata": {},
   "outputs": [
    {
     "data": {
      "image/png": "[encoded data removed]",
      "text/plain": [
       "<Figure size 432x144 with 2 Axes>"
      ]
     },
     "metadata": {},
     "output_type": "display_data"
    }
   ],
   "source": [
    "fig, (ax1, ax2) = plt.subplots(1, 2, figsize=(6,2));\n",
    "ax1.plot(np.sin(np.linspace(0,5,100)));\n",
    "ax2.plot(np.cosh(np.linspace(0,5,100)));"
   ]
  },
  {
   "cell_type": "markdown",
   "metadata": {},
   "source": [
    "As recommended by the authors, if you repeat plots it can be useful to make a function that does the plotting for you, given some input parameter that you want to change."
   ]
  },
  {
   "cell_type": "markdown",
   "metadata": {},
   "source": [
    "<a id=\"units\"></a>"
   ]
  },
  {
   "cell_type": "markdown",
   "metadata": {},
   "source": [
    "# Units and quantities"
   ]
  },
  {
   "cell_type": "markdown",
   "metadata": {},
   "source": [
    "([back to table of contents](#toc))"
   ]
  },
  {
   "cell_type": "markdown",
   "metadata": {},
   "source": [
    "Astropy has built-in support for [units](http://docs.astropy.org/en/stable/units/), and converting between them. Also, the `astropy.constants` holds useful constants, which of course usually have a unit."
   ]
  },
  {
   "cell_type": "code",
   "execution_count": 19,
   "metadata": {},
   "outputs": [],
   "source": [
    "import astropy.units as u"
   ]
  },
  {
   "cell_type": "code",
   "execution_count": 20,
   "metadata": {},
   "outputs": [],
   "source": [
    "from astropy.constants import c as speed_of_light\n",
    "from astropy.constants import m_e as electron_mass"
   ]
  },
  {
   "cell_type": "code",
   "execution_count": 21,
   "metadata": {},
   "outputs": [
    {
     "data": {
      "text/latex": [
       "$9.1093836 \\times 10^{-31} \\; \\mathrm{kg}$"
      ],
      "text/plain": [
       "<<class 'astropy.constants.codata2014.CODATA2014'> name='Electron mass' value=9.10938356e-31 uncertainty=1.1e-38 unit='kg' reference='CODATA 2014'>"
      ]
     },
     "execution_count": 21,
     "metadata": {},
     "output_type": "execute_result"
    }
   ],
   "source": [
    "electron_mass"
   ]
  },
  {
   "cell_type": "markdown",
   "metadata": {},
   "source": [
    "This thing is a `Quantity`, which has a unit and a value."
   ]
  },
  {
   "cell_type": "code",
   "execution_count": 22,
   "metadata": {},
   "outputs": [
    {
     "data": {
      "text/plain": [
       "True"
      ]
     },
     "execution_count": 22,
     "metadata": {},
     "output_type": "execute_result"
    }
   ],
   "source": [
    "isinstance(electron_mass, u.quantity.Quantity)"
   ]
  },
  {
   "cell_type": "code",
   "execution_count": 23,
   "metadata": {},
   "outputs": [
    {
     "data": {
      "text/plain": [
       "9.10938356e-31"
      ]
     },
     "execution_count": 23,
     "metadata": {},
     "output_type": "execute_result"
    }
   ],
   "source": [
    "electron_mass.value"
   ]
  },
  {
   "cell_type": "code",
   "execution_count": 24,
   "metadata": {},
   "outputs": [
    {
     "data": {
      "text/latex": [
       "$\\mathrm{kg}$"
      ],
      "text/plain": [
       "Unit(\"kg\")"
      ]
     },
     "execution_count": 24,
     "metadata": {},
     "output_type": "execute_result"
    }
   ],
   "source": [
    "electron_mass.unit"
   ]
  },
  {
   "cell_type": "markdown",
   "metadata": {},
   "source": [
    "Declaring your own quantity is done like this:"
   ]
  },
  {
   "cell_type": "code",
   "execution_count": 25,
   "metadata": {},
   "outputs": [],
   "source": [
    "tammo_mass = 78 * u.kg"
   ]
  },
  {
   "cell_type": "markdown",
   "metadata": {},
   "source": [
    "**Exercise**: Type `u.` and use tab-completion to find the unit for astronomical unit."
   ]
  },
  {
   "cell_type": "markdown",
   "metadata": {},
   "source": [
    "Of course it's possible to convert to other units:"
   ]
  },
  {
   "cell_type": "code",
   "execution_count": 26,
   "metadata": {},
   "outputs": [
    {
     "data": {
      "text/latex": [
       "$1.0792528 \\times 10^{9} \\; \\mathrm{\\frac{km}{h}}$"
      ],
      "text/plain": [
       "<Quantity 1.07925285e+09 km / h>"
      ]
     },
     "execution_count": 26,
     "metadata": {},
     "output_type": "execute_result"
    }
   ],
   "source": [
    "speed_of_light.to(u.km / u.h)"
   ]
  },
  {
   "cell_type": "markdown",
   "metadata": {},
   "source": [
    "A useful abbreviation is the attribute `.si` which gives a quantity in SI-units, and `.decompose()` to decompose the unit into irreducible units."
   ]
  },
  {
   "cell_type": "markdown",
   "metadata": {},
   "source": [
    "**Exercise**: Use `astropy.units` to compute the light travel time from the Sun to Earth in minutes."
   ]
  },
  {
   "cell_type": "code",
   "execution_count": 34,
   "metadata": {},
   "outputs": [
    {
     "data": {
      "text/latex": [
       "$8.3167464 \\; \\mathrm{min}$"
      ],
      "text/plain": [
       "<Quantity 8.3167464 min>"
      ]
     },
     "execution_count": 34,
     "metadata": {},
     "output_type": "execute_result"
    }
   ],
   "source": [
    "(1 * u.AU / speed_of_light).to(u.min)"
   ]
  },
  {
   "cell_type": "markdown",
   "metadata": {},
   "source": [
    "**Exercise**: how many atomic masses does your favorite tutor weigh? (Atomic mass: `u.u`)"
   ]
  },
  {
   "cell_type": "code",
   "execution_count": 35,
   "metadata": {},
   "outputs": [
    {
     "data": {
      "text/latex": [
       "$4.6972699 \\times 10^{28} \\; \\mathrm{u}$"
      ],
      "text/plain": [
       "<Quantity 4.69726987e+28 u>"
      ]
     },
     "execution_count": 35,
     "metadata": {},
     "output_type": "execute_result"
    }
   ],
   "source": [
    "tammo_mass.to(u.u)"
   ]
  },
  {
   "cell_type": "markdown",
   "metadata": {},
   "source": [
    "**Exercise**: convert $\\mathrm{50\\,\\mathrm{Jansky}}$ to $\\mathrm{erg}/\\mathrm{cm}^2$"
   ]
  },
  {
   "cell_type": "code",
   "execution_count": 36,
   "metadata": {},
   "outputs": [
    {
     "data": {
      "text/latex": [
       "$5 \\times 10^{-22} \\; \\mathrm{\\frac{erg}{cm^{2}}}$"
      ],
      "text/plain": [
       "<Quantity 5.e-22 erg / cm2>"
      ]
     },
     "execution_count": 36,
     "metadata": {},
     "output_type": "execute_result"
    }
   ],
   "source": [
    "(50*u.Jy).to(u.erg/u.cm**2)"
   ]
  },
  {
   "cell_type": "markdown",
   "metadata": {},
   "source": [
    "Computing with quantities almost magically works. Under the hood, astropy alters numpy functions to accept quantities:"
   ]
  },
  {
   "cell_type": "code",
   "execution_count": 177,
   "metadata": {},
   "outputs": [
    {
     "data": {
      "text/latex": [
       "$0.00017320508 \\; \\mathrm{\\mathring{A}}$"
      ],
      "text/plain": [
       "<Quantity 0.00017321 Angstrom>"
      ]
     },
     "execution_count": 177,
     "metadata": {},
     "output_type": "execute_result"
    }
   ],
   "source": [
    "np.sqrt(3*u.barn).to(u.angstrom)"
   ]
  },
  {
   "cell_type": "markdown",
   "metadata": {},
   "source": [
    "Note that this does not work with the `math` equivalencies."
   ]
  },
  {
   "cell_type": "markdown",
   "metadata": {},
   "source": [
    "**Exercise**: One of Kepler's Law's is defined as\n",
    "$$\\frac{4\\pi^2}{T^2}=\\frac{G(M_\\text{sun}+M_\\text{earth})}{a^3},\n",
    "$$\n",
    "where $a$ is the semi-major axis of the elliptical orbit and $T$ is the orbital period. For the orbit of Earth around the Sun, $a\\approx 1 \\text{AU}$ and $T\\approx 1\\text{year}$.\n",
    "We can rewrite this to\n",
    "$$\n",
    "M_\\text{sun}+M_\\text{earth}=\\frac{4\\pi^2}{G T^2} a^3.\n",
    "$$\n",
    "Evaluate the right-hand side and convert to `u.solMass` to check this equation (you'll need to import `G` from `astropy.constants`)."
   ]
  },
  {
   "cell_type": "code",
   "execution_count": 28,
   "metadata": {},
   "outputs": [],
   "source": [
    "from astropy.constants import G"
   ]
  },
  {
   "cell_type": "code",
   "execution_count": 36,
   "metadata": {},
   "outputs": [
    {
     "data": {
      "text/latex": [
       "$1.0000378 \\; \\mathrm{M_{\\odot}}$"
      ],
      "text/plain": [
       "<Quantity 1.00003777 solMass>"
      ]
     },
     "execution_count": 36,
     "metadata": {},
     "output_type": "execute_result"
    }
   ],
   "source": [
    "(4 * np.pi**2 / (G * u.year**2) * u.AU**3).to(u.solMass)"
   ]
  },
  {
   "cell_type": "markdown",
   "metadata": {},
   "source": [
    "### Equivalencies"
   ]
  },
  {
   "cell_type": "markdown",
   "metadata": {},
   "source": [
    "Some units are not convertible by default. An example is `MHz` and `cm`, although we all know how to convert those.\n",
    "\n",
    "Astropy does not, by default:"
   ]
  },
  {
   "cell_type": "code",
   "execution_count": 30,
   "metadata": {
    "scrolled": true
   },
   "outputs": [
    {
     "ename": "UnitConversionError",
     "evalue": "'cm' (length) and 'MHz' (frequency) are not convertible",
     "output_type": "error",
     "traceback": [
      "\u001b[0;31m---------------------------------------------------------------------------\u001b[0m",
      "\u001b[0;31mUnitConversionError\u001b[0m                       Traceback (most recent call last)",
      "\u001b[0;32m<ipython-input-30-f4295464742e>\u001b[0m in \u001b[0;36m<module>\u001b[0;34m()\u001b[0m\n\u001b[0;32m----> 1\u001b[0;31m \u001b[0;34m(\u001b[0m\u001b[0;36m21.106\u001b[0m\u001b[0;34m*\u001b[0m\u001b[0mu\u001b[0m\u001b[0;34m.\u001b[0m\u001b[0mcm\u001b[0m\u001b[0;34m)\u001b[0m\u001b[0;34m.\u001b[0m\u001b[0mto\u001b[0m\u001b[0;34m(\u001b[0m\u001b[0mu\u001b[0m\u001b[0;34m.\u001b[0m\u001b[0mMHz\u001b[0m\u001b[0;34m)\u001b[0m\u001b[0;34m\u001b[0m\u001b[0;34m\u001b[0m\u001b[0m\n\u001b[0m",
      "\u001b[0;32m/anaconda/envs/school18/lib/python3.6/site-packages/astropy/units/quantity.py\u001b[0m in \u001b[0;36mto\u001b[0;34m(self, unit, equivalencies)\u001b[0m\n\u001b[1;32m    845\u001b[0m         \u001b[0;31m# and don't want to slow down this method (esp. the scalar case).\u001b[0m\u001b[0;34m\u001b[0m\u001b[0;34m\u001b[0m\u001b[0;34m\u001b[0m\u001b[0m\n\u001b[1;32m    846\u001b[0m         \u001b[0munit\u001b[0m \u001b[0;34m=\u001b[0m \u001b[0mUnit\u001b[0m\u001b[0;34m(\u001b[0m\u001b[0munit\u001b[0m\u001b[0;34m)\u001b[0m\u001b[0;34m\u001b[0m\u001b[0;34m\u001b[0m\u001b[0m\n\u001b[0;32m--> 847\u001b[0;31m         \u001b[0;32mreturn\u001b[0m \u001b[0mself\u001b[0m\u001b[0;34m.\u001b[0m\u001b[0m_new_view\u001b[0m\u001b[0;34m(\u001b[0m\u001b[0mself\u001b[0m\u001b[0;34m.\u001b[0m\u001b[0m_to_value\u001b[0m\u001b[0;34m(\u001b[0m\u001b[0munit\u001b[0m\u001b[0;34m,\u001b[0m \u001b[0mequivalencies\u001b[0m\u001b[0;34m)\u001b[0m\u001b[0;34m,\u001b[0m \u001b[0munit\u001b[0m\u001b[0;34m)\u001b[0m\u001b[0;34m\u001b[0m\u001b[0;34m\u001b[0m\u001b[0m\n\u001b[0m\u001b[1;32m    848\u001b[0m \u001b[0;34m\u001b[0m\u001b[0m\n\u001b[1;32m    849\u001b[0m     \u001b[0;32mdef\u001b[0m \u001b[0mto_value\u001b[0m\u001b[0;34m(\u001b[0m\u001b[0mself\u001b[0m\u001b[0;34m,\u001b[0m \u001b[0munit\u001b[0m\u001b[0;34m=\u001b[0m\u001b[0;32mNone\u001b[0m\u001b[0;34m,\u001b[0m \u001b[0mequivalencies\u001b[0m\u001b[0;34m=\u001b[0m\u001b[0;34m[\u001b[0m\u001b[0;34m]\u001b[0m\u001b[0;34m)\u001b[0m\u001b[0;34m:\u001b[0m\u001b[0;34m\u001b[0m\u001b[0;34m\u001b[0m\u001b[0m\n",
      "\u001b[0;32m/anaconda/envs/school18/lib/python3.6/site-packages/astropy/units/quantity.py\u001b[0m in \u001b[0;36m_to_value\u001b[0;34m(self, unit, equivalencies)\u001b[0m\n\u001b[1;32m    817\u001b[0m             \u001b[0mequivalencies\u001b[0m \u001b[0;34m=\u001b[0m \u001b[0mself\u001b[0m\u001b[0;34m.\u001b[0m\u001b[0m_equivalencies\u001b[0m\u001b[0;34m\u001b[0m\u001b[0;34m\u001b[0m\u001b[0m\n\u001b[1;32m    818\u001b[0m         return self.unit.to(unit, self.view(np.ndarray),\n\u001b[0;32m--> 819\u001b[0;31m                             equivalencies=equivalencies)\n\u001b[0m\u001b[1;32m    820\u001b[0m \u001b[0;34m\u001b[0m\u001b[0m\n\u001b[1;32m    821\u001b[0m     \u001b[0;32mdef\u001b[0m \u001b[0mto\u001b[0m\u001b[0;34m(\u001b[0m\u001b[0mself\u001b[0m\u001b[0;34m,\u001b[0m \u001b[0munit\u001b[0m\u001b[0;34m,\u001b[0m \u001b[0mequivalencies\u001b[0m\u001b[0;34m=\u001b[0m\u001b[0;34m[\u001b[0m\u001b[0;34m]\u001b[0m\u001b[0;34m)\u001b[0m\u001b[0;34m:\u001b[0m\u001b[0;34m\u001b[0m\u001b[0;34m\u001b[0m\u001b[0m\n",
      "\u001b[0;32m/anaconda/envs/school18/lib/python3.6/site-packages/astropy/units/core.py\u001b[0m in \u001b[0;36mto\u001b[0;34m(self, other, value, equivalencies)\u001b[0m\n\u001b[1;32m    963\u001b[0m             \u001b[0mIf\u001b[0m \u001b[0munits\u001b[0m \u001b[0mare\u001b[0m \u001b[0minconsistent\u001b[0m\u001b[0;34m\u001b[0m\u001b[0;34m\u001b[0m\u001b[0m\n\u001b[1;32m    964\u001b[0m         \"\"\"\n\u001b[0;32m--> 965\u001b[0;31m         \u001b[0;32mreturn\u001b[0m \u001b[0mself\u001b[0m\u001b[0;34m.\u001b[0m\u001b[0m_get_converter\u001b[0m\u001b[0;34m(\u001b[0m\u001b[0mother\u001b[0m\u001b[0;34m,\u001b[0m \u001b[0mequivalencies\u001b[0m\u001b[0;34m=\u001b[0m\u001b[0mequivalencies\u001b[0m\u001b[0;34m)\u001b[0m\u001b[0;34m(\u001b[0m\u001b[0mvalue\u001b[0m\u001b[0;34m)\u001b[0m\u001b[0;34m\u001b[0m\u001b[0;34m\u001b[0m\u001b[0m\n\u001b[0m\u001b[1;32m    966\u001b[0m \u001b[0;34m\u001b[0m\u001b[0m\n\u001b[1;32m    967\u001b[0m     \u001b[0;32mdef\u001b[0m \u001b[0min_units\u001b[0m\u001b[0;34m(\u001b[0m\u001b[0mself\u001b[0m\u001b[0;34m,\u001b[0m \u001b[0mother\u001b[0m\u001b[0;34m,\u001b[0m \u001b[0mvalue\u001b[0m\u001b[0;34m=\u001b[0m\u001b[0;36m1.0\u001b[0m\u001b[0;34m,\u001b[0m \u001b[0mequivalencies\u001b[0m\u001b[0;34m=\u001b[0m\u001b[0;34m[\u001b[0m\u001b[0;34m]\u001b[0m\u001b[0;34m)\u001b[0m\u001b[0;34m:\u001b[0m\u001b[0;34m\u001b[0m\u001b[0;34m\u001b[0m\u001b[0m\n",
      "\u001b[0;32m/anaconda/envs/school18/lib/python3.6/site-packages/astropy/units/core.py\u001b[0m in \u001b[0;36m_get_converter\u001b[0;34m(self, other, equivalencies)\u001b[0m\n\u001b[1;32m    897\u001b[0m                             \u001b[0;32mpass\u001b[0m\u001b[0;34m\u001b[0m\u001b[0;34m\u001b[0m\u001b[0m\n\u001b[1;32m    898\u001b[0m \u001b[0;34m\u001b[0m\u001b[0m\n\u001b[0;32m--> 899\u001b[0;31m             \u001b[0;32mraise\u001b[0m \u001b[0mexc\u001b[0m\u001b[0;34m\u001b[0m\u001b[0;34m\u001b[0m\u001b[0m\n\u001b[0m\u001b[1;32m    900\u001b[0m \u001b[0;34m\u001b[0m\u001b[0m\n\u001b[1;32m    901\u001b[0m     \u001b[0;32mdef\u001b[0m \u001b[0m_to\u001b[0m\u001b[0;34m(\u001b[0m\u001b[0mself\u001b[0m\u001b[0;34m,\u001b[0m \u001b[0mother\u001b[0m\u001b[0;34m)\u001b[0m\u001b[0;34m:\u001b[0m\u001b[0;34m\u001b[0m\u001b[0;34m\u001b[0m\u001b[0m\n",
      "\u001b[0;32m/anaconda/envs/school18/lib/python3.6/site-packages/astropy/units/core.py\u001b[0m in \u001b[0;36m_get_converter\u001b[0;34m(self, other, equivalencies)\u001b[0m\n\u001b[1;32m    883\u001b[0m         \u001b[0;32mtry\u001b[0m\u001b[0;34m:\u001b[0m\u001b[0;34m\u001b[0m\u001b[0;34m\u001b[0m\u001b[0m\n\u001b[1;32m    884\u001b[0m             return self._apply_equivalencies(\n\u001b[0;32m--> 885\u001b[0;31m                 self, other, self._normalize_equivalencies(equivalencies))\n\u001b[0m\u001b[1;32m    886\u001b[0m         \u001b[0;32mexcept\u001b[0m \u001b[0mUnitsError\u001b[0m \u001b[0;32mas\u001b[0m \u001b[0mexc\u001b[0m\u001b[0;34m:\u001b[0m\u001b[0;34m\u001b[0m\u001b[0;34m\u001b[0m\u001b[0m\n\u001b[1;32m    887\u001b[0m             \u001b[0;31m# Last hope: maybe other knows how to do it?\u001b[0m\u001b[0;34m\u001b[0m\u001b[0;34m\u001b[0m\u001b[0;34m\u001b[0m\u001b[0m\n",
      "\u001b[0;32m/anaconda/envs/school18/lib/python3.6/site-packages/astropy/units/core.py\u001b[0m in \u001b[0;36m_apply_equivalencies\u001b[0;34m(self, unit, other, equivalencies)\u001b[0m\n\u001b[1;32m    867\u001b[0m         raise UnitConversionError(\n\u001b[1;32m    868\u001b[0m             \"{0} and {1} are not convertible\".format(\n\u001b[0;32m--> 869\u001b[0;31m                 unit_str, other_str))\n\u001b[0m\u001b[1;32m    870\u001b[0m \u001b[0;34m\u001b[0m\u001b[0m\n\u001b[1;32m    871\u001b[0m     \u001b[0;32mdef\u001b[0m \u001b[0m_get_converter\u001b[0m\u001b[0;34m(\u001b[0m\u001b[0mself\u001b[0m\u001b[0;34m,\u001b[0m \u001b[0mother\u001b[0m\u001b[0;34m,\u001b[0m \u001b[0mequivalencies\u001b[0m\u001b[0;34m=\u001b[0m\u001b[0;34m[\u001b[0m\u001b[0;34m]\u001b[0m\u001b[0;34m)\u001b[0m\u001b[0;34m:\u001b[0m\u001b[0;34m\u001b[0m\u001b[0;34m\u001b[0m\u001b[0m\n",
      "\u001b[0;31mUnitConversionError\u001b[0m: 'cm' (length) and 'MHz' (frequency) are not convertible"
     ]
    }
   ],
   "source": [
    "(21.106*u.cm).to(u.MHz)"
   ]
  },
  {
   "cell_type": "markdown",
   "metadata": {},
   "source": [
    "**Exercise**: Use `speed_of_light` and unit conversion to find the frequency in `MHz` that corresponds to `21.106 cm`"
   ]
  },
  {
   "cell_type": "code",
   "execution_count": 37,
   "metadata": {},
   "outputs": [
    {
     "data": {
      "text/latex": [
       "$1420.4134 \\; \\mathrm{MHz}$"
      ],
      "text/plain": [
       "<Quantity 1420.41342746 MHz>"
      ]
     },
     "execution_count": 37,
     "metadata": {},
     "output_type": "execute_result"
    }
   ],
   "source": [
    "(speed_of_light / (21.106*u.cm)).to(u.MHz)"
   ]
  },
  {
   "cell_type": "markdown",
   "metadata": {},
   "source": [
    "With an \"equivalency\" for the function `.to()`, astropy does know how to convert these:"
   ]
  },
  {
   "cell_type": "code",
   "execution_count": 44,
   "metadata": {},
   "outputs": [
    {
     "data": {
      "text/latex": [
       "$1420.4134 \\; \\mathrm{MHz}$"
      ],
      "text/plain": [
       "<Quantity 1420.41342746 MHz>"
      ]
     },
     "execution_count": 44,
     "metadata": {},
     "output_type": "execute_result"
    }
   ],
   "source": [
    "(21.106*u.cm).to(u.MHz, equivalencies=u.spectral())"
   ]
  },
  {
   "cell_type": "markdown",
   "metadata": {},
   "source": [
    "**Warning**: the brackets are important here! Also just the unit `u.cm` has a `.to()` method, which converts just the unit. Since the spectral equivalency is not associative over multiplication, and the function `.to()` takes precedence over multiplication, this will give an unexpected answer."
   ]
  },
  {
   "cell_type": "code",
   "execution_count": 47,
   "metadata": {},
   "outputs": [
    {
     "data": {
      "text/plain": [
       "632741.9618548"
      ]
     },
     "execution_count": 47,
     "metadata": {},
     "output_type": "execute_result"
    }
   ],
   "source": [
    "21.106*u.cm.to(u.MHz, equivalencies=u.spectral())"
   ]
  },
  {
   "cell_type": "markdown",
   "metadata": {},
   "source": [
    "**Exercise**: fix this."
   ]
  },
  {
   "cell_type": "code",
   "execution_count": 48,
   "metadata": {},
   "outputs": [
    {
     "data": {
      "text/latex": [
       "$1420.4134 \\; \\mathrm{MHz}$"
      ],
      "text/plain": [
       "<Quantity 1420.41342746 MHz>"
      ]
     },
     "execution_count": 48,
     "metadata": {},
     "output_type": "execute_result"
    }
   ],
   "source": [
    "(21.106*u.cm).to(u.MHz, equivalencies=u.spectral())"
   ]
  },
  {
   "cell_type": "markdown",
   "metadata": {},
   "source": [
    "Another useful equivalency:"
   ]
  },
  {
   "cell_type": "code",
   "execution_count": 49,
   "metadata": {},
   "outputs": [
    {
     "data": {
      "text/latex": [
       "$-125.9126 \\; \\mathrm{\\frac{km}{s}}$"
      ],
      "text/plain": [
       "<Quantity -125.9126 km / s>"
      ]
     },
     "execution_count": 49,
     "metadata": {},
     "output_type": "execute_result"
    }
   ],
   "source": [
    "(1421.01*u.MHz).to(u.km/u.s, equivalencies=u.doppler_radio(rest=21.106*u.cm))"
   ]
  },
  {
   "cell_type": "markdown",
   "metadata": {},
   "source": [
    "It is possible to enable equivalencies globally, this should of course be used with care. An equivalency is in fact a list, so to combine equivalencies you can add them (in fact you're then adding lists)."
   ]
  },
  {
   "cell_type": "code",
   "execution_count": 39,
   "metadata": {},
   "outputs": [
    {
     "data": {
      "text/plain": [
       "  Primary name | Unit definition | Aliases                         \n",
       "[\n",
       "  AU           | 1.49598e+11 m   | au, astronomical_unit            ,\n",
       "  Angstrom     | 1e-10 m         | AA, angstrom                     ,\n",
       "  cm           | 0.01 m          | centimeter                       ,\n",
       "  earthRad     | 6.3781e+06 m    | R_earth, Rearth                  ,\n",
       "  jupiterRad   | 7.1492e+07 m    | R_jup, Rjup, R_jupiter, Rjupiter ,\n",
       "  lyr          | 9.46073e+15 m   | lightyear                        ,\n",
       "  m            | irreducible     | meter                            ,\n",
       "  micron       | 1e-06 m         |                                  ,\n",
       "  pc           | 3.08568e+16 m   | parsec                           ,\n",
       "  solRad       | 6.957e+08 m     | R_sun, Rsun                      ,\n",
       "]"
      ]
     },
     "execution_count": 39,
     "metadata": {},
     "output_type": "execute_result"
    }
   ],
   "source": [
    "u.cm.find_equivalent_units()"
   ]
  },
  {
   "cell_type": "code",
   "execution_count": 40,
   "metadata": {
    "scrolled": true
   },
   "outputs": [
    {
     "data": {
      "text/plain": [
       "<astropy.units.core._UnitContext at 0x11ef2d978>"
      ]
     },
     "execution_count": 40,
     "metadata": {},
     "output_type": "execute_result"
    }
   ],
   "source": [
    "u.set_enabled_equivalencies(u.spectral())"
   ]
  },
  {
   "cell_type": "code",
   "execution_count": 41,
   "metadata": {},
   "outputs": [
    {
     "data": {
      "text/plain": [
       "  Primary name | Unit definition        | Aliases                         \n",
       "[\n",
       "  AU           | 1.49598e+11 m          | au, astronomical_unit            ,\n",
       "  Angstrom     | 1e-10 m                | AA, angstrom                     ,\n",
       "  Bq           | 1 / s                  | becquerel                        ,\n",
       "  Ci           | 3.7e+10 / s            | curie                            ,\n",
       "  Hz           | 1 / s                  | Hertz, hertz                     ,\n",
       "  J            | kg m2 / s2             | Joule, joule                     ,\n",
       "  Ry           | 2.17987e-18 kg m2 / s2 | rydberg                          ,\n",
       "  cm           | 0.01 m                 | centimeter                       ,\n",
       "  eV           | 1.60218e-19 kg m2 / s2 | electronvolt                     ,\n",
       "  earthRad     | 6.3781e+06 m           | R_earth, Rearth                  ,\n",
       "  erg          | 1e-07 kg m2 / s2       |                                  ,\n",
       "  jupiterRad   | 7.1492e+07 m           | R_jup, Rjup, R_jupiter, Rjupiter ,\n",
       "  k            | 100 / m                | Kayser, kayser                   ,\n",
       "  lyr          | 9.46073e+15 m          | lightyear                        ,\n",
       "  m            | irreducible            | meter                            ,\n",
       "  micron       | 1e-06 m                |                                  ,\n",
       "  pc           | 3.08568e+16 m          | parsec                           ,\n",
       "  solRad       | 6.957e+08 m            | R_sun, Rsun                      ,\n",
       "]"
      ]
     },
     "execution_count": 41,
     "metadata": {},
     "output_type": "execute_result"
    }
   ],
   "source": [
    "u.cm.find_equivalent_units()"
   ]
  },
  {
   "cell_type": "markdown",
   "metadata": {},
   "source": [
    "Since we've now enabled the spectral equivalency, the following is possible without explicitly enabling it."
   ]
  },
  {
   "cell_type": "code",
   "execution_count": 54,
   "metadata": {},
   "outputs": [
    {
     "data": {
      "text/latex": [
       "$1303.4455 \\; \\mathrm{MHz}$"
      ],
      "text/plain": [
       "<Quantity 1303.44546957 MHz>"
      ]
     },
     "execution_count": 54,
     "metadata": {},
     "output_type": "execute_result"
    }
   ],
   "source": [
    "(23*u.cm).to(u.MHz)"
   ]
  },
  {
   "cell_type": "markdown",
   "metadata": {},
   "source": [
    "A more proper way to enable more equivalencies is to embed them in a `with` statement:"
   ]
  },
  {
   "cell_type": "code",
   "execution_count": 55,
   "metadata": {},
   "outputs": [
    {
     "name": "stdout",
     "output_type": "stream",
     "text": [
      "21.0972034130404 cm\n"
     ]
    }
   ],
   "source": [
    "with u.set_enabled_equivalencies(u.spectral() + u.doppler_radio(rest=21.106*u.cm)):\n",
    "        print((-125*u.km/u.s).to(u.cm))"
   ]
  },
  {
   "cell_type": "markdown",
   "metadata": {},
   "source": [
    "And another equivalency that may be useful:"
   ]
  },
  {
   "cell_type": "code",
   "execution_count": 64,
   "metadata": {},
   "outputs": [
    {
     "data": {
      "text/latex": [
       "$3.5262951 \\; \\mathrm{K}$"
      ],
      "text/plain": [
       "<Quantity 3.52629514 K>"
      ]
     },
     "execution_count": 64,
     "metadata": {},
     "output_type": "execute_result"
    }
   ],
   "source": [
    "beam_sigma = 50*u.arcsec\n",
    "beam_area = 2*np.pi*(beam_sigma)**2\n",
    "(1*u.Jy/beam_area).to(u.K, equivalencies=u.brightness_temperature(5*u.GHz))"
   ]
  },
  {
   "cell_type": "markdown",
   "metadata": {},
   "source": [
    "Recall the Rayleigh-Jeans law: $B_{\\lambda} (T) = \\frac{2 \\cdot c \\cdot k_{\\mathrm{B}} \\cdot T}{\\lambda^4}$, where $B_{\\lambda}$ is the  spectral radiance; the power emitted per unit emitting area, per steradian, per unit wavelength, $c$  is the speed of light, $k_{\\mathrm{B}}$ is the Boltzmann constant and $T$ is the temperature in kelvins."
   ]
  },
  {
   "cell_type": "markdown",
   "metadata": {},
   "source": [
    "**Exercise**: implement the function `rayleigh_jeans(lamda, t)` that for a given wavelength and temperature, returns the spectral radiance, with appropriate units. (We'll use `lamda` here because `lambda` is a reserved word in Python.)\n",
    "\n",
    "*Hint*: use tab completion on `astropy.constants.` to find available constants."
   ]
  },
  {
   "cell_type": "code",
   "execution_count": 65,
   "metadata": {},
   "outputs": [],
   "source": [
    "from astropy.constants import k_B"
   ]
  },
  {
   "cell_type": "code",
   "execution_count": 66,
   "metadata": {},
   "outputs": [],
   "source": [
    "def rayleigh_jeans(lamda, t):\n",
    "    return (2 * speed_of_light * k_B * t) / lamda**4"
   ]
  },
  {
   "cell_type": "markdown",
   "metadata": {},
   "source": [
    "**Exercise**: plot this function at $T=30\\mathrm{K}$ for $\\lambda \\in (10\\mathrm{cm}, 1\\mathrm{m})$"
   ]
  },
  {
   "cell_type": "code",
   "execution_count": 67,
   "metadata": {},
   "outputs": [
    {
     "data": {
      "image/png": "[encoded data removed]",
      "text/plain": [
       "<Figure size 432x288 with 1 Axes>"
      ]
     },
     "metadata": {},
     "output_type": "display_data"
    }
   ],
   "source": [
    "fig, ax = plt.subplots();\n",
    "ax.plot(rayleigh_jeans(np.linspace(0.1, 1, 100)*u.m, 30*u.K));\n",
    "ax.set_xlabel(\"Wavelength (m)\");\n",
    "ax.set_ylabel(\"Vertical axis (unit??)\");"
   ]
  },
  {
   "cell_type": "markdown",
   "metadata": {},
   "source": [
    "Astropy has a way to add unit support to matplotlib plots:"
   ]
  },
  {
   "cell_type": "code",
   "execution_count": 68,
   "metadata": {},
   "outputs": [],
   "source": [
    "from astropy.visualization import quantity_support"
   ]
  },
  {
   "cell_type": "code",
   "execution_count": 69,
   "metadata": {},
   "outputs": [
    {
     "data": {
      "image/png": "[encoded data removed]",
      "text/plain": [
       "<Figure size 432x288 with 1 Axes>"
      ]
     },
     "metadata": {},
     "output_type": "display_data"
    }
   ],
   "source": [
    "plt.figure()\n",
    "with quantity_support():\n",
    "    plt.plot(rayleigh_jeans(np.linspace(3, 30, 100)*u.m, 30*u.K))"
   ]
  },
  {
   "cell_type": "markdown",
   "metadata": {},
   "source": [
    "It can get more fancy by using the function decorator `u.quantity_input` which understands the unit of input for your function. In this way, you can specify the arguments to your function with a different unit (e.g. `km` instead of `m`) and astropy will do the conversion for you."
   ]
  },
  {
   "cell_type": "code",
   "execution_count": 70,
   "metadata": {},
   "outputs": [],
   "source": [
    "@u.quantity_input(lamda=u.m, t=u.K)\n",
    "def rayleigh_jeans(lamda, t):\n",
    "    return (2 * speed_of_light * k_B * t) / lamda**4"
   ]
  },
  {
   "cell_type": "code",
   "execution_count": 71,
   "metadata": {},
   "outputs": [
    {
     "data": {
      "text/latex": [
       "$3.9735169 \\times 10^{-43} \\; \\mathrm{m^{3}\\,kg\\,s}$"
      ],
      "text/plain": [
       "<Quantity 3.97351693e-43 kg m3 s>"
      ]
     },
     "execution_count": 71,
     "metadata": {},
     "output_type": "execute_result"
    }
   ],
   "source": [
    "rayleigh_jeans(50*u.MHz, 300*u.K).si"
   ]
  },
  {
   "cell_type": "markdown",
   "metadata": {},
   "source": [
    "Note that typing `u.m` everywhere will cause some overhead, but it might save you a few days of debugging a case where you forgot which unit you used."
   ]
  },
  {
   "cell_type": "markdown",
   "metadata": {},
   "source": [
    "## Time"
   ]
  },
  {
   "cell_type": "markdown",
   "metadata": {},
   "source": [
    "Astropy has good support for times and dates. As you know, there is only one good way to format time: [ISO8601](https://xkcd.com/1179/). To convert to and from this, use `astropy.time`."
   ]
  },
  {
   "cell_type": "code",
   "execution_count": 72,
   "metadata": {},
   "outputs": [],
   "source": [
    "from astropy.time import Time"
   ]
  },
  {
   "cell_type": "code",
   "execution_count": 73,
   "metadata": {},
   "outputs": [],
   "source": [
    "t = Time(\"2019-03-13T11:30\")"
   ]
  },
  {
   "cell_type": "code",
   "execution_count": 74,
   "metadata": {},
   "outputs": [
    {
     "data": {
      "text/plain": [
       "'2019-03-13T11:30:00.000'"
      ]
     },
     "execution_count": 74,
     "metadata": {},
     "output_type": "execute_result"
    }
   ],
   "source": [
    "t.isot"
   ]
  },
  {
   "cell_type": "code",
   "execution_count": 75,
   "metadata": {},
   "outputs": [
    {
     "data": {
      "text/plain": [
       "58555.479166666664"
      ]
     },
     "execution_count": 75,
     "metadata": {},
     "output_type": "execute_result"
    }
   ],
   "source": [
    "t.mjd"
   ]
  },
  {
   "cell_type": "code",
   "execution_count": 76,
   "metadata": {},
   "outputs": [
    {
     "data": {
      "text/plain": [
       "1552476600.0000002"
      ]
     },
     "execution_count": 76,
     "metadata": {},
     "output_type": "execute_result"
    }
   ],
   "source": [
    "t.unix"
   ]
  },
  {
   "cell_type": "code",
   "execution_count": 77,
   "metadata": {},
   "outputs": [],
   "source": [
    "t = Time.now()"
   ]
  },
  {
   "cell_type": "code",
   "execution_count": 78,
   "metadata": {},
   "outputs": [
    {
     "data": {
      "text/plain": [
       "1552426273.8274841"
      ]
     },
     "execution_count": 78,
     "metadata": {},
     "output_type": "execute_result"
    }
   ],
   "source": [
    "t.unix"
   ]
  },
  {
   "cell_type": "code",
   "execution_count": 79,
   "metadata": {},
   "outputs": [],
   "source": [
    "t = Time(1551733900, format='unix')"
   ]
  },
  {
   "cell_type": "code",
   "execution_count": 80,
   "metadata": {},
   "outputs": [
    {
     "data": {
      "text/plain": [
       "'2019-03-04T21:11:40.000'"
      ]
     },
     "execution_count": 80,
     "metadata": {},
     "output_type": "execute_result"
    }
   ],
   "source": [
    "t.isot"
   ]
  },
  {
   "cell_type": "markdown",
   "metadata": {},
   "source": [
    "**Exercise**: How many seconds were there between `1997-01-01 00:00` UTC and `2000-01-01 00:00` UTC?"
   ]
  },
  {
   "cell_type": "code",
   "execution_count": 81,
   "metadata": {},
   "outputs": [
    {
     "data": {
      "text/latex": [
       "$94608002 \\; \\mathrm{s}$"
      ],
      "text/plain": [
       "<Quantity 94608002. s>"
      ]
     },
     "execution_count": 81,
     "metadata": {},
     "output_type": "execute_result"
    }
   ],
   "source": [
    "(Time(\"2000-01-01 00:00\") - Time(\"1997-01-01 00:00\")).to(u.s)"
   ]
  },
  {
   "cell_type": "markdown",
   "metadata": {},
   "source": [
    "**Exercise**: How many leap seconds have there been in your life? (It's ok to assume it's less than 100.)"
   ]
  },
  {
   "cell_type": "code",
   "execution_count": 83,
   "metadata": {},
   "outputs": [
    {
     "data": {
      "text/plain": [
       "18.0"
      ]
     },
     "execution_count": 83,
     "metadata": {},
     "output_type": "execute_result"
    }
   ],
   "source": [
    "(Time(\"2019-01-01\") - Time(\"1981-01-01\")).to(u.s).value%100"
   ]
  },
  {
   "cell_type": "markdown",
   "metadata": {},
   "source": [
    "## Angles"
   ]
  },
  {
   "cell_type": "markdown",
   "metadata": {},
   "source": [
    "A special case of units are angles, not unimportant in astronomy. Of course normal angles 'just work', though they're not very smart (don't take care of unwrapping):"
   ]
  },
  {
   "cell_type": "code",
   "execution_count": 84,
   "metadata": {},
   "outputs": [
    {
     "data": {
      "text/latex": [
       "$365 \\; \\mathrm{{}^{\\circ}}$"
      ],
      "text/plain": [
       "<Quantity 365. deg>"
      ]
     },
     "execution_count": 84,
     "metadata": {},
     "output_type": "execute_result"
    }
   ],
   "source": [
    "365*u.deg"
   ]
  },
  {
   "cell_type": "code",
   "execution_count": 85,
   "metadata": {},
   "outputs": [
    {
     "data": {
      "text/latex": [
       "$2.3561945 \\; \\mathrm{rad}$"
      ],
      "text/plain": [
       "<Quantity 2.35619449 rad>"
      ]
     },
     "execution_count": 85,
     "metadata": {},
     "output_type": "execute_result"
    }
   ],
   "source": [
    "(135*u.deg).to(u.rad)"
   ]
  },
  {
   "cell_type": "code",
   "execution_count": 86,
   "metadata": {},
   "outputs": [
    {
     "data": {
      "text/latex": [
       "$135 \\; \\mathrm{rad}$"
      ],
      "text/plain": [
       "<Quantity 135. rad>"
      ]
     },
     "execution_count": 86,
     "metadata": {},
     "output_type": "execute_result"
    }
   ],
   "source": [
    "np.deg2rad(135*u.rad)"
   ]
  },
  {
   "cell_type": "markdown",
   "metadata": {},
   "source": [
    "Note that what happened here is bit scary: astropy 'patched' the function `np.deg2rad` to be type-aware, and the argument got converted to degrees before it entered the function."
   ]
  },
  {
   "cell_type": "markdown",
   "metadata": {},
   "source": [
    "To input sexagesimal angles, use `Angle` to make it format nicely automatically."
   ]
  },
  {
   "cell_type": "code",
   "execution_count": 87,
   "metadata": {},
   "outputs": [],
   "source": [
    "from astropy.coordinates import Angle"
   ]
  },
  {
   "cell_type": "code",
   "execution_count": 88,
   "metadata": {},
   "outputs": [
    {
     "data": {
      "text/latex": [
       "$8^\\mathrm{h}34^\\mathrm{m}05.54^\\mathrm{s}$"
      ],
      "text/plain": [
       "<Angle 8.56820556 hourangle>"
      ]
     },
     "execution_count": 88,
     "metadata": {},
     "output_type": "execute_result"
    }
   ],
   "source": [
    "ra = Angle(\"8h34m5.54s\")\n",
    "ra"
   ]
  },
  {
   "cell_type": "code",
   "execution_count": 89,
   "metadata": {},
   "outputs": [
    {
     "data": {
      "text/latex": [
       "$-45^\\circ50{}^\\prime00{}^{\\prime\\prime}$"
      ],
      "text/plain": [
       "<Angle -45.83333333 deg>"
      ]
     },
     "execution_count": 89,
     "metadata": {},
     "output_type": "execute_result"
    }
   ],
   "source": [
    "dec = Angle(\"-45d50m0s\")\n",
    "dec"
   ]
  },
  {
   "cell_type": "code",
   "execution_count": 90,
   "metadata": {},
   "outputs": [
    {
     "data": {
      "text/plain": [
       "hms_tuple(h=8.0, m=34.0, s=5.540000000001868)"
      ]
     },
     "execution_count": 90,
     "metadata": {},
     "output_type": "execute_result"
    }
   ],
   "source": [
    "ra.hms"
   ]
  },
  {
   "cell_type": "code",
   "execution_count": 91,
   "metadata": {},
   "outputs": [
    {
     "data": {
      "text/plain": [
       "dms_tuple(d=-45.0, m=-50.0, s=-8.526512829121202e-12)"
      ]
     },
     "execution_count": 91,
     "metadata": {},
     "output_type": "execute_result"
    }
   ],
   "source": [
    "dec.dms"
   ]
  },
  {
   "cell_type": "code",
   "execution_count": 92,
   "metadata": {},
   "outputs": [
    {
     "data": {
      "text/plain": [
       "signed_dms_tuple(sign=-1.0, d=45.0, m=50.0, s=8.526512829121202e-12)"
      ]
     },
     "execution_count": 92,
     "metadata": {},
     "output_type": "execute_result"
    }
   ],
   "source": [
    "dec.signed_dms"
   ]
  },
  {
   "cell_type": "markdown",
   "metadata": {},
   "source": [
    "**Exercise**: convert `23:56:12.4` (the casacore hour format) to radians."
   ]
  },
  {
   "cell_type": "code",
   "execution_count": 102,
   "metadata": {},
   "outputs": [
    {
     "data": {
      "text/latex": [
       "$23^\\mathrm{h}56^\\mathrm{m}12.4^\\mathrm{s}$"
      ],
      "text/plain": [
       "<Angle 23.93677778 hourangle>"
      ]
     },
     "execution_count": 102,
     "metadata": {},
     "output_type": "execute_result"
    }
   ],
   "source": [
    "Angle(\"23:56:12.4\", u.hour)"
   ]
  },
  {
   "cell_type": "markdown",
   "metadata": {},
   "source": [
    "<a id=\"skycoord\"></a>"
   ]
  },
  {
   "cell_type": "markdown",
   "metadata": {},
   "source": [
    "# Sky coordinates"
   ]
  },
  {
   "cell_type": "markdown",
   "metadata": {},
   "source": [
    "([back to table of contents](#toc))"
   ]
  },
  {
   "cell_type": "code",
   "execution_count": 178,
   "metadata": {},
   "outputs": [],
   "source": [
    "from astropy.coordinates import SkyCoord, FK5, Galactic"
   ]
  },
  {
   "cell_type": "markdown",
   "metadata": {},
   "source": [
    "Coordinates on the sky are of course `SkyCoord`s. You can make one as follows:"
   ]
  },
  {
   "cell_type": "code",
   "execution_count": 179,
   "metadata": {},
   "outputs": [],
   "source": [
    "my_obj = SkyCoord(ra=ra, dec=dec)"
   ]
  },
  {
   "cell_type": "markdown",
   "metadata": {},
   "source": [
    "The default frame is ICRS, which is about the same as J2000.\n",
    "\n",
    "Many convenience methods are available for SkyCoord. The best is for tutorials is `from_name`, which gets you an object by querying simbad."
   ]
  },
  {
   "cell_type": "code",
   "execution_count": 105,
   "metadata": {},
   "outputs": [],
   "source": [
    "polaris = SkyCoord.from_name(\"polaris\")"
   ]
  },
  {
   "cell_type": "code",
   "execution_count": 106,
   "metadata": {},
   "outputs": [
    {
     "data": {
      "text/latex": [
       "$37^\\circ57{}^\\prime16.4184{}^{\\prime\\prime}$"
      ],
      "text/plain": [
       "<Longitude 37.95456067 deg>"
      ]
     },
     "execution_count": 106,
     "metadata": {},
     "output_type": "execute_result"
    }
   ],
   "source": [
    "polaris.ra"
   ]
  },
  {
   "cell_type": "code",
   "execution_count": 107,
   "metadata": {},
   "outputs": [
    {
     "data": {
      "text/latex": [
       "$89^\\circ15{}^\\prime50.7923{}^{\\prime\\prime}$"
      ],
      "text/plain": [
       "<Latitude 89.26410897 deg>"
      ]
     },
     "execution_count": 107,
     "metadata": {},
     "output_type": "execute_result"
    }
   ],
   "source": [
    "polaris.dec"
   ]
  },
  {
   "cell_type": "code",
   "execution_count": 108,
   "metadata": {},
   "outputs": [
    {
     "data": {
      "text/latex": [
       "$135^\\circ50{}^\\prime08.7712{}^{\\prime\\prime}$"
      ],
      "text/plain": [
       "<Angle 135.83576978 deg>"
      ]
     },
     "execution_count": 108,
     "metadata": {},
     "output_type": "execute_result"
    }
   ],
   "source": [
    "polaris.separation(my_obj)"
   ]
  },
  {
   "cell_type": "code",
   "execution_count": 143,
   "metadata": {},
   "outputs": [
    {
     "data": {
      "text/plain": [
       "<SkyCoord (Galactic): (l, b) in deg\n",
       "    (123.28054967, 26.46139598)>"
      ]
     },
     "execution_count": 143,
     "metadata": {},
     "output_type": "execute_result"
    }
   ],
   "source": [
    "polaris.galactic"
   ]
  },
  {
   "cell_type": "code",
   "execution_count": 145,
   "metadata": {},
   "outputs": [
    {
     "data": {
      "text/plain": [
       "<SkyCoord (Galactic): (l, b) in deg\n",
       "    (123.28054967, 26.46139598)>"
      ]
     },
     "execution_count": 145,
     "metadata": {},
     "output_type": "execute_result"
    }
   ],
   "source": [
    "polaris.transform_to(Galactic)"
   ]
  },
  {
   "cell_type": "code",
   "execution_count": 146,
   "metadata": {},
   "outputs": [],
   "source": [
    "gal_center = SkyCoord(l=0*u.deg, b=0*u.deg, frame=\"galactic\")"
   ]
  },
  {
   "cell_type": "markdown",
   "metadata": {},
   "source": [
    "**Exercise**: how many radians is the galactic center from M31?"
   ]
  },
  {
   "cell_type": "code",
   "execution_count": 147,
   "metadata": {},
   "outputs": [
    {
     "data": {
      "text/latex": [
       "$2.07303\\mathrm{rad}$"
      ],
      "text/plain": [
       "<Angle 2.07302669 rad>"
      ]
     },
     "execution_count": 147,
     "metadata": {},
     "output_type": "execute_result"
    }
   ],
   "source": [
    "gal_center.separation(SkyCoord.from_name(\"M31\")).to(u.rad)"
   ]
  },
  {
   "cell_type": "markdown",
   "metadata": {},
   "source": [
    "Converting to a different frame is done with `transform_to`. Typical frames are `Galactic()`, `FK5()`, `AltAz`. The first two support an `equinox` argument."
   ]
  },
  {
   "cell_type": "code",
   "execution_count": 148,
   "metadata": {},
   "outputs": [],
   "source": [
    "b0329 = SkyCoord.from_name(\"PSR B0329+54\")"
   ]
  },
  {
   "cell_type": "markdown",
   "metadata": {},
   "source": [
    "**Exercise**: explain the name of this object by viewing the right ascension and declination in equinox 1950."
   ]
  },
  {
   "cell_type": "code",
   "execution_count": 149,
   "metadata": {},
   "outputs": [
    {
     "data": {
      "text/plain": [
       "'3h32m59.4082s'"
      ]
     },
     "execution_count": 149,
     "metadata": {},
     "output_type": "execute_result"
    }
   ],
   "source": [
    "b0329.ra.to_string(u.hour)"
   ]
  },
  {
   "cell_type": "code",
   "execution_count": 154,
   "metadata": {},
   "outputs": [
    {
     "name": "stderr",
     "output_type": "stream",
     "text": [
      "WARNING: ErfaWarning: ERFA function \"dtf2d\" yielded 1 of \"dubious year (Note 6)\" [astropy._erfa.core]\n"
     ]
    },
    {
     "data": {
      "text/plain": [
       "'3h29m11.1282s'"
      ]
     },
     "execution_count": 154,
     "metadata": {},
     "output_type": "execute_result"
    }
   ],
   "source": [
    "b0329.transform_to(FK5(equinox=Time(\"1950-01-01\"))).ra.to_string(u.hour)"
   ]
  },
  {
   "cell_type": "code",
   "execution_count": 156,
   "metadata": {},
   "outputs": [
    {
     "name": "stderr",
     "output_type": "stream",
     "text": [
      "WARNING: ErfaWarning: ERFA function \"dtf2d\" yielded 1 of \"dubious year (Note 6)\" [astropy._erfa.core]\n"
     ]
    },
    {
     "data": {
      "text/plain": [
       "'54d24m36.5156s'"
      ]
     },
     "execution_count": 156,
     "metadata": {},
     "output_type": "execute_result"
    }
   ],
   "source": [
    "b0329.transform_to(FK5(equinox=Time(\"1950-01-01\"))).dec.to_string(u.deg)"
   ]
  },
  {
   "cell_type": "markdown",
   "metadata": {},
   "source": [
    "<a id=\"pyvo\"></a>"
   ]
  },
  {
   "cell_type": "markdown",
   "metadata": {},
   "source": [
    "## Convert sky coordinates to Azimuth / Elevation"
   ]
  },
  {
   "cell_type": "markdown",
   "metadata": {},
   "source": [
    "([back to table of contents](#toc))"
   ]
  },
  {
   "cell_type": "code",
   "execution_count": 157,
   "metadata": {},
   "outputs": [],
   "source": [
    "from astropy.coordinates import EarthLocation, AltAz, ICRS"
   ]
  },
  {
   "cell_type": "code",
   "execution_count": 158,
   "metadata": {},
   "outputs": [],
   "source": [
    "dwl = EarthLocation(lat=52*u.deg, lon=6*u.deg)"
   ]
  },
  {
   "cell_type": "markdown",
   "metadata": {},
   "source": [
    "Alternatively, you can use the convenience function `of_address`. This only works from astropy 3.1 which uses OpenStreetMap, the older versions use the Google maps API which was shut down mid 2018."
   ]
  },
  {
   "cell_type": "code",
   "execution_count": 159,
   "metadata": {},
   "outputs": [
    {
     "data": {
      "text/latex": [
       "$(3839196.8, 430354.95, 5058020.8) \\; \\mathrm{m}$"
      ],
      "text/plain": [
       "<EarthLocation (3839196.75293548, 430354.94831138, 5058020.76777722) m>"
      ]
     },
     "execution_count": 159,
     "metadata": {},
     "output_type": "execute_result"
    }
   ],
   "source": [
    "EarthLocation.of_address(\"Dwingeloo, Oude Hoogeveensedijk 4\")"
   ]
  },
  {
   "cell_type": "markdown",
   "metadata": {},
   "source": [
    "More alternatively, use `of_site`, which contains coordinates of some well-known observatories. This list can be inspected with `EarthLocation.get_site_names()`."
   ]
  },
  {
   "cell_type": "markdown",
   "metadata": {},
   "source": [
    "**Exercise**: make a pull request to Astropy to include some ASTRON telescopes here."
   ]
  },
  {
   "cell_type": "markdown",
   "metadata": {},
   "source": [
    "An AltAz frame requires a place and a time."
   ]
  },
  {
   "cell_type": "code",
   "execution_count": 160,
   "metadata": {},
   "outputs": [
    {
     "data": {
      "text/plain": [
       "<AltAz Frame (obstime=2019-03-12 22:06:53.081254, location=(3913404.34151726, 411315.37060055, 5002803.34548264) m, pressure=0.0 hPa, temperature=0.0 deg_C, relative_humidity=0.0, obswl=1.0 micron)>"
      ]
     },
     "execution_count": 160,
     "metadata": {},
     "output_type": "execute_result"
    }
   ],
   "source": [
    "AltAz(obstime=Time.now(), location=dwl)"
   ]
  },
  {
   "cell_type": "markdown",
   "metadata": {},
   "source": [
    "To convert to such a frame, use the `.transform_to` method of a `SkyCoord`:"
   ]
  },
  {
   "cell_type": "code",
   "execution_count": 161,
   "metadata": {},
   "outputs": [],
   "source": [
    "gal_altaz = gal_center.transform_to(AltAz(obstime=Time.now(), location=dwl))"
   ]
  },
  {
   "cell_type": "code",
   "execution_count": 162,
   "metadata": {},
   "outputs": [
    {
     "data": {
      "text/latex": [
       "$-39^\\circ47{}^\\prime13.753{}^{\\prime\\prime}$"
      ],
      "text/plain": [
       "<Latitude -39.78715361 deg>"
      ]
     },
     "execution_count": 162,
     "metadata": {},
     "output_type": "execute_result"
    }
   ],
   "source": [
    "gal_altaz.alt"
   ]
  },
  {
   "cell_type": "code",
   "execution_count": 163,
   "metadata": {},
   "outputs": [
    {
     "data": {
      "text/latex": [
       "$87^\\circ31{}^\\prime56.1941{}^{\\prime\\prime}$"
      ],
      "text/plain": [
       "<Longitude 87.53227614 deg>"
      ]
     },
     "execution_count": 163,
     "metadata": {},
     "output_type": "execute_result"
    }
   ],
   "source": [
    "gal_altaz.az"
   ]
  },
  {
   "cell_type": "markdown",
   "metadata": {},
   "source": [
    "**Exercise**: Plot the altitude of your favorite source as seen from WSRT over the next 12 hours. *Hint*: for plotting times, python likes them to be converted to `datetime`. So if you have a `Time` object `t`, use `t.datetime` in the plot command."
   ]
  },
  {
   "cell_type": "code",
   "execution_count": 164,
   "metadata": {},
   "outputs": [],
   "source": [
    "timespan = Time.now() + np.linspace(0, 12, 100)*u.hour"
   ]
  },
  {
   "cell_type": "code",
   "execution_count": 165,
   "metadata": {},
   "outputs": [],
   "source": [
    "wsrt = EarthLocation.of_address(\"Westerbork Synthesis Radio Telescope\")"
   ]
  },
  {
   "cell_type": "code",
   "execution_count": 166,
   "metadata": {},
   "outputs": [],
   "source": [
    "altazframe = AltAz(location=wsrt, obstime=timespan)"
   ]
  },
  {
   "cell_type": "code",
   "execution_count": 167,
   "metadata": {},
   "outputs": [],
   "source": [
    "m31_altaz = SkyCoord.from_name(\"M31\").transform_to(altazframe)"
   ]
  },
  {
   "cell_type": "code",
   "execution_count": 169,
   "metadata": {},
   "outputs": [
    {
     "data": {
      "image/png": "[encoded data removed]",
      "text/plain": [
       "<Figure size 432x288 with 1 Axes>"
      ]
     },
     "metadata": {},
     "output_type": "display_data"
    }
   ],
   "source": [
    "fig, ax = plt.subplots()\n",
    "ax.plot(timespan.datetime, m31_altaz.alt);"
   ]
  },
  {
   "cell_type": "markdown",
   "metadata": {},
   "source": [
    "Of course, transforming from `AltAz` to `FK5` is done in a similar manner. FK5 is a frame that more or less corresponds to J2000 but is more accurate."
   ]
  },
  {
   "cell_type": "markdown",
   "metadata": {},
   "source": [
    "**Exercise**: where is the Dwingeloo telescope currently pointing in the `FK5` frame? It's parked at 30 deg from south, 30 deg elevation."
   ]
  },
  {
   "cell_type": "code",
   "execution_count": 170,
   "metadata": {},
   "outputs": [
    {
     "data": {
      "text/plain": [
       "<FK5 Coordinate (equinox=J2000.000): (ra, dec) in deg\n",
       "    (122.15939322, -3.82480973)>"
      ]
     },
     "execution_count": 170,
     "metadata": {},
     "output_type": "execute_result"
    }
   ],
   "source": [
    "AltAz(obstime=Time.now(), location=dwl, alt=30*u.deg, az=210*u.deg).transform_to(FK5)"
   ]
  },
  {
   "cell_type": "markdown",
   "metadata": {},
   "source": [
    "# Binning"
   ]
  },
  {
   "cell_type": "markdown",
   "metadata": {},
   "source": [
    "For this demo, we need an image; we'll get one from Skyview.."
   ]
  },
  {
   "cell_type": "code",
   "execution_count": 2,
   "metadata": {},
   "outputs": [],
   "source": [
    "from astroquery.skyview import SkyView\n",
    "from astropy.coordinates import SkyCoord\n",
    "import astropy.units as u"
   ]
  },
  {
   "cell_type": "code",
   "execution_count": 12,
   "metadata": {},
   "outputs": [],
   "source": [
    "m31= SkyView.get_images(SkyCoord.from_name(\"M31\"), survey=\"DSS\", pixels=256,\n",
    "                       radius=2*u.deg)[0][0]"
   ]
  },
  {
   "cell_type": "code",
   "execution_count": 16,
   "metadata": {},
   "outputs": [],
   "source": [
    "m31_data = m31.data"
   ]
  },
  {
   "cell_type": "code",
   "execution_count": 13,
   "metadata": {},
   "outputs": [],
   "source": [
    "import matplotlib.pyplot as plt\n",
    "%matplotlib inline"
   ]
  },
  {
   "cell_type": "code",
   "execution_count": 19,
   "metadata": {},
   "outputs": [
    {
     "data": {
      "image/png": "[encoded data removed]",
      "text/plain": [
       "<Figure size 432x288 with 1 Axes>"
      ]
     },
     "metadata": {
      "needs_background": "light"
     },
     "output_type": "display_data"
    }
   ],
   "source": [
    "fig, ax = plt.subplots()\n",
    "ax.imshow(m31_data);"
   ]
  },
  {
   "cell_type": "markdown",
   "metadata": {},
   "source": [
    "**Exercise**: make a new array `m31_resampled` which contains a 16x subsampled version (in x and y direction) of `m31`. Hint: you can use `reshape` to add two axes with shape 16, and then sum over those new axes."
   ]
  },
  {
   "cell_type": "code",
   "execution_count": 26,
   "metadata": {},
   "outputs": [],
   "source": [
    "binsize = 16;\n",
    "m31_subsampled = m31_data.reshape(m31_data.shape[0]//binsize,\n",
    "                                 binsize,\n",
    "                                 m31_data.shape[1]//binsize,\n",
    "                                 binsize).sum(axis=(1,3))"
   ]
  },
  {
   "cell_type": "code",
   "execution_count": 27,
   "metadata": {},
   "outputs": [
    {
     "data": {
      "image/png": "[encoded data removed]",
      "text/plain": [
       "<Figure size 432x288 with 1 Axes>"
      ]
     },
     "metadata": {
      "needs_background": "light"
     },
     "output_type": "display_data"
    }
   ],
   "source": [
    "plt.imshow(subsampled);"
   ]
  }
 ],
 "metadata": {
  "kernelspec": {
   "display_name": "Python 3",
   "language": "python",
   "name": "python3"
  },
  "language_info": {
   "codemirror_mode": {
    "name": "ipython",
    "version": 3
   },
   "file_extension": ".py",
   "mimetype": "text/x-python",
   "name": "python",
   "nbconvert_exporter": "python",
   "pygments_lexer": "ipython3",
   "version": "3.6.8"
  }
 },
 "nbformat": 4,
 "nbformat_minor": 2
}
